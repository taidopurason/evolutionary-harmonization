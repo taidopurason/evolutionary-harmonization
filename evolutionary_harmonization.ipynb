{
 "cells": [
  {
   "cell_type": "code",
   "execution_count": 32,
   "metadata": {},
   "outputs": [],
   "source": [
    "from __future__ import annotations\n",
    "import logging\n",
    "from dataclasses import dataclass\n",
    "from operator import itemgetter\n",
    "from typing import Tuple, List, Callable, TypeVar, Optional, Sequence, Iterable\n",
    "import random\n",
    "import numpy as np\n",
    "from mingus.containers import Bar, Track, NoteContainer, Composition, Note\n",
    "from mingus.midi.midi_file_out import write_Composition\n",
    "from mingus.core.chords import from_shorthand\n",
    "from mingus.core.progressions import determine\n",
    "from fractions import Fraction\n",
    "from mingus.extra import lilypond"
   ]
  },
  {
   "cell_type": "markdown",
   "metadata": {},
   "source": [
    "## evolution.py"
   ]
  },
  {
   "cell_type": "code",
   "execution_count": 2,
   "metadata": {},
   "outputs": [],
   "source": [
    "class Gene:\n",
    "    def mutate(self, p: float = 1) -> Gene:\n",
    "        raise NotImplementedError\n",
    "\n",
    "    def crossover(self, gene: Gene) -> Tuple[Gene, Gene]:\n",
    "        raise NotImplementedError\n",
    "\n",
    "\n",
    "class Selection:\n",
    "    def select(self, population: List[Gene], scores: List[float]) -> Tuple[Gene, float]:\n",
    "        raise NotImplementedError\n",
    "        \n",
    "@dataclass(frozen=True)\n",
    "class HarmonyGene(Gene):\n",
    "    gene: List[str]\n",
    "    alphabet: List[str]\n",
    "\n",
    "    def __len__(self):\n",
    "        return len(self.gene)\n",
    "\n",
    "    def __str__(self):\n",
    "        return f\"HarmonyGene({str(self.gene)})\"\n",
    "\n",
    "    def __repr__(self):\n",
    "        return str(self)\n",
    "\n",
    "    def __getitem__(self, item):\n",
    "        return self.gene[item]\n",
    "\n",
    "    @staticmethod\n",
    "    def initialize_population(n_population: int, gene_length: int, alphabet: List[str]) -> List[HarmonyGene]:\n",
    "        return [\n",
    "            HarmonyGene([random.choice(alphabet) for _ in range(gene_length)], alphabet) for _ in range(n_population)\n",
    "        ]\n",
    "\n",
    "    def crossover(self, gene: HarmonyGene) -> Tuple[HarmonyGene, HarmonyGene]:\n",
    "        # single point crossover\n",
    "        assert len(self) == len(gene)\n",
    "\n",
    "        p = random.randint(1, len(self) - 1)\n",
    "\n",
    "        return (\n",
    "            HarmonyGene(self.gene[:p] + gene.gene[p:], self.alphabet),\n",
    "            HarmonyGene(gene.gene[:p] + self.gene[p:], self.alphabet)\n",
    "        )\n",
    "\n",
    "    def mutate(self, p: float = 1) -> HarmonyGene:\n",
    "        return HarmonyGene(\n",
    "            [random.choice(self.alphabet) if random.random() < p else x for x in self.gene],\n",
    "            self.alphabet\n",
    "        )\n",
    "    \n",
    "    \n",
    "class Callback:\n",
    "    def on_begin(self):\n",
    "        pass\n",
    "\n",
    "    def on_end(self):\n",
    "        pass\n",
    "\n",
    "    def on_epoch_end(self, best_solution: Gene, best_score: float, epoch: int) -> bool:\n",
    "        return False\n",
    "\n",
    "\n",
    "class EarlyStopping(Callback):\n",
    "    def __init__(self, patience):\n",
    "        self.patience = patience\n",
    "        self.best_score = None\n",
    "        self.not_improved = 0\n",
    "\n",
    "    def on_begin(self):\n",
    "        self.not_improved = 0\n",
    "\n",
    "    def on_epoch_end(self, best_solution: Gene, best_score: float, epoch: int) -> bool:\n",
    "        if self.best_score is None:\n",
    "            self.best_score = best_score\n",
    "\n",
    "        if best_score <= self.best_score:\n",
    "            self.not_improved += 1\n",
    "            if self.not_improved >= self.patience:\n",
    "                logger.info(f\"The fitness has not improved for {self.patience} epochs. Stopping training at epoch {epoch}\")\n",
    "                return True\n",
    "        else:\n",
    "            self.not_improved = 0\n",
    "            self.best_score = best_score\n",
    "\n",
    "\n",
    "@dataclass\n",
    "class TournamentSelection(Selection):\n",
    "    k: int\n",
    "\n",
    "    def select(self, population: List[Gene], scores: List[float]) -> Tuple[Gene, float]:\n",
    "        return max(random.choices(list(zip(population, scores)), k=self.k), key=itemgetter(1))"
   ]
  },
  {
   "cell_type": "code",
   "execution_count": 3,
   "metadata": {},
   "outputs": [],
   "source": [
    "GeneType = TypeVar('GeneType', bound=Gene)"
   ]
  },
  {
   "cell_type": "code",
   "execution_count": 4,
   "metadata": {},
   "outputs": [],
   "source": [
    "def genetic_algorithm(\n",
    "        optimize_func: Callable[[GeneType], float],\n",
    "        initial_population: List[GeneType],\n",
    "        selection: Selection,\n",
    "        p_crossover: float,\n",
    "        p_mutation: float,\n",
    "        epochs: int,\n",
    "        p_location_mutation: Optional[float] = None,\n",
    "        callbacks: Sequence[Callback] = tuple()\n",
    ") -> Tuple[GeneType, float]:\n",
    "    for callback in callbacks:\n",
    "        callback.on_begin()\n",
    "\n",
    "    if p_location_mutation is None:\n",
    "        p_location_mutation = 1 / len(initial_population[0])\n",
    "\n",
    "    population = initial_population\n",
    "    scores = list(map(optimize_func, initial_population))\n",
    "\n",
    "    best_idx = np.argmax(scores)\n",
    "    best_solution = population[best_idx]\n",
    "    best_score = scores[best_idx]\n",
    "\n",
    "    for j in range(epochs):\n",
    "        next_population = []\n",
    "        next_scores = []\n",
    "\n",
    "        for i in range(0, len(population), 2):\n",
    "            parent_1, score_1 = selection.select(population, scores)\n",
    "            parent_2, score_2 = selection.select(population, scores)\n",
    "\n",
    "            if random.random() < p_crossover:\n",
    "                children = parent_1.crossover(parent_2)\n",
    "                child_scores = (None, None)\n",
    "            else:\n",
    "                children = (parent_1, parent_2)\n",
    "                child_scores = (score_1, score_2)\n",
    "\n",
    "            for child, score in list(zip(children, child_scores))[:int(i + 1 < len(population)) + 1]:\n",
    "                if random.random() < p_mutation:\n",
    "                    child = child.mutate(p=p_location_mutation)\n",
    "                    score = None\n",
    "\n",
    "                if score is None:\n",
    "                    score = optimize_func(child)\n",
    "\n",
    "                next_population.append(child)\n",
    "                next_scores.append(score)\n",
    "\n",
    "                if score > best_score:\n",
    "                    best_score = score\n",
    "                    best_solution = child\n",
    "\n",
    "        population = next_population\n",
    "        scores = next_scores\n",
    "\n",
    "        if any(callback.on_epoch_end(best_solution, best_score, j) for callback in callbacks):\n",
    "            break\n",
    "\n",
    "    for callback in callbacks:\n",
    "        callback.on_end()\n",
    "\n",
    "    return best_solution, best_score"
   ]
  },
  {
   "cell_type": "markdown",
   "metadata": {},
   "source": [
    "## utils.py"
   ]
  },
  {
   "cell_type": "code",
   "execution_count": 5,
   "metadata": {},
   "outputs": [],
   "source": [
    "good_progressions = [['I', 'IV', 'V', 'I', 'I'],\n",
    "                     ['I', 'IV', 'vi', 'V', 'I'],\n",
    "                     ['I', 'IV', 'I', 'V', 'I'],\n",
    "                     ['I', 'V', 'IV', 'V', 'I'],\n",
    "                     ['I', 'vi', 'IV', 'V', 'I'],\n",
    "                     ['I', 'V', 'vi', 'IV', 'I']]"
   ]
  },
  {
   "cell_type": "code",
   "execution_count": 6,
   "metadata": {},
   "outputs": [],
   "source": [
    "def get_chord_notes(chord: str) -> List[str]:\n",
    "    return from_shorthand(chord)\n",
    "\n",
    "\n",
    "def note_match_fitness(chord: str, notes: Iterable[str]) -> float:\n",
    "    chord_notes = set(get_chord_notes(chord))\n",
    "    notes = set(map(lambda x: Note(x).name, notes))\n",
    "    return len(chord_notes.intersection(notes)) / len(chord_notes)\n",
    "\n",
    "\n",
    "def note_mismatch_penalty(chord: str, notes: Iterable[str]) -> float:\n",
    "    chord_notes = set(get_chord_notes(chord))\n",
    "    notes = set(map(lambda x: Note(x).name, notes))\n",
    "    return len(chord_notes.difference(notes)) / len(chord_notes)\n",
    "\n",
    "def chord_progression_fitness(chords: List[str], key: str) -> float:\n",
    "    progression = []\n",
    "    for chord in chords:\n",
    "        determined_chord = determine(get_chord_notes(chord), key, True)[0]\n",
    "        progression.append(determined_chord)\n",
    "\n",
    "    if progression in good_progressions:\n",
    "        return 0.5\n",
    "    elif progression[-2:] in [['V', 'I'], ['IV', 'I']]:\n",
    "        return 0.25\n",
    "    elif progression[-1] == 'I':\n",
    "        return 0.1\n",
    "    else:\n",
    "        return -0.5"
   ]
  },
  {
   "cell_type": "markdown",
   "metadata": {},
   "source": [
    "## mingus_test.py"
   ]
  },
  {
   "cell_type": "code",
   "execution_count": 8,
   "metadata": {},
   "outputs": [],
   "source": [
    "def dot(x: Fraction) -> Fraction:\n",
    "    return x + x / 2\n",
    "\n",
    "\n",
    "def to_mingus(x: Fraction) -> float:\n",
    "    return float(1 / x)"
   ]
  },
  {
   "cell_type": "code",
   "execution_count": 9,
   "metadata": {},
   "outputs": [],
   "source": [
    "whole = Fraction(1)\n",
    "half = Fraction(1, 2)\n",
    "quarter = Fraction(1, 4)\n",
    "eighth = Fraction(1, 8)\n",
    "sixteenth = Fraction(1, 16)\n",
    "\n",
    "test_melody = (\n",
    "    (\n",
    "        (\"C-5\", dot(eighth)),\n",
    "        (\"C-5\", sixteenth)\n",
    "    ),\n",
    "    (\n",
    "        (\"D-5\", quarter),\n",
    "        (\"C-5\", quarter),\n",
    "        (\"F-5\", quarter)\n",
    "    ),\n",
    "    (\n",
    "        (\"E-5\", half),\n",
    "        (\"C-5\", dot(eighth)),\n",
    "        (\"C-5\", sixteenth)\n",
    "    ),\n",
    "    (\n",
    "        (\"D-5\", quarter),\n",
    "        (\"C-5\", quarter),\n",
    "        (\"G-5\", quarter)\n",
    "    ),\n",
    "    (\n",
    "        (\"F-5\", half),\n",
    "    )\n",
    ")\n",
    "\n",
    "\n",
    "test_chords = (\n",
    "    \"\",\n",
    "    \"F\",\n",
    "    \"C\",\n",
    "    \"C\",\n",
    "    \"F\"\n",
    ")"
   ]
  },
  {
   "cell_type": "code",
   "execution_count": 33,
   "metadata": {},
   "outputs": [],
   "source": [
    "def write_composition(melody: Iterable[Tuple[Tuple[str, Fraction]]], chords: Iterable[str],\n",
    "                      filename: str = \"test.midi\"):\n",
    "    # generating midi\n",
    "    melody_track = Track()\n",
    "    chord_track = Track()\n",
    "\n",
    "    for chord, bar in zip(chords, melody):\n",
    "        # time signature is taken according to the notes\n",
    "        bar_length = sum(note[1] for note in bar)\n",
    "        ratio = bar_length.as_integer_ratio()\n",
    "\n",
    "        note_bar = Bar(meter=ratio)\n",
    "        chord_bar = Bar(meter=ratio)\n",
    "\n",
    "        # adding notes\n",
    "        for note, duration in bar:\n",
    "            if not note_bar.place_notes(note, to_mingus(duration)):\n",
    "                raise ValueError(\"more notes than fit in a bar\")\n",
    "\n",
    "        if not chord_bar.place_notes(NoteContainer().from_chord_shorthand(chord) if chord else None,\n",
    "                                     to_mingus(bar_length)):\n",
    "            raise ValueError(\"more notes than fit in a bar\")\n",
    "\n",
    "        melody_track.add_bar(note_bar)\n",
    "        chord_track.add_bar(chord_bar)\n",
    "\n",
    "    composition = Composition()\n",
    "    composition.add_track(melody_track)\n",
    "    composition.add_track(chord_track)\n",
    "\n",
    "    write_Composition(filename, composition)\n",
    "    return composition"
   ]
  },
  {
   "cell_type": "markdown",
   "metadata": {},
   "source": [
    "## test_music_evolution.py"
   ]
  },
  {
   "cell_type": "code",
   "execution_count": 11,
   "metadata": {},
   "outputs": [],
   "source": [
    "def fitness(gene: HarmonyGene, melody: Iterable[Tuple[Tuple[str, Fraction]]], key: str) -> float:\n",
    "    melody_notes = set(note[0] for bar in melody for note in bar)\n",
    "\n",
    "    fitness = 0\n",
    "    for chord, bar in zip(gene, melody):\n",
    "        bar_notes = set(note[0] for note in bar)\n",
    "        fitness += note_match_fitness(chord, bar_notes)\n",
    "        fitness -= 0.7 * note_mismatch_penalty(chord, bar_notes)\n",
    "        fitness -= 0.3 * note_mismatch_penalty(chord, melody_notes)\n",
    "\n",
    "    fitness += chord_progression_fitness(gene.gene, key)\n",
    "\n",
    "    return fitness"
   ]
  },
  {
   "cell_type": "code",
   "execution_count": 34,
   "metadata": {},
   "outputs": [
    {
     "name": "stdout",
     "output_type": "stream",
     "text": [
      "Alphabet ['F', 'Gm', 'Am', 'Bb', 'C', 'Dm', 'Edim']\n",
      "Best score: 1.0833333333333335\n",
      "Generated chords HarmonyGene(['C', 'F', 'C', 'C', 'F'])\n"
     ]
    }
   ],
   "source": [
    "write_composition(test_melody, test_chords, \"correct.midi\")\n",
    "\n",
    "# alphabet = get_notes(\"F\")\n",
    "# alphabet = ['Gb', 'Db', 'Ab', 'Eb', 'Bb', 'F', 'C', 'G', 'D', 'A', 'E', 'B', 'F#', 'C#', 'G#', 'D#', 'A#']\n",
    "# alphabet += [a + \"m\" for a in alphabet]\n",
    "\n",
    "# only diatonic chords\n",
    "alphabet = [\"F\", \"Gm\", \"Am\", \"Bb\", \"C\", \"Dm\", \"Edim\"]\n",
    "\n",
    "key = \"F\"\n",
    "n_population = len(test_chords)\n",
    "\n",
    "print(\"Alphabet\", alphabet)\n",
    "initial_pop = HarmonyGene.initialize_population(n_population * 10, n_population, alphabet)\n",
    "generated_chords, score = genetic_algorithm(\n",
    "    lambda x: fitness(x, test_melody, key),\n",
    "    initial_pop,\n",
    "    TournamentSelection(5),\n",
    "    p_crossover=0.8,\n",
    "    p_mutation=0.3,\n",
    "    epochs=5000\n",
    ")\n",
    "print(\"Best score:\", score)\n",
    "print(\"Generated chords\", generated_chords)\n",
    "gen_comp = write_composition(test_melody, generated_chords, \"generated.midi\")"
   ]
  },
  {
   "cell_type": "markdown",
   "metadata": {},
   "source": [
    "# Sample output visualised"
   ]
  },
  {
   "cell_type": "code",
   "execution_count": 37,
   "metadata": {},
   "outputs": [
    {
     "name": "stdout",
     "output_type": "stream",
     "text": [
      "\\header { title = \"Untitled\" composer = \"\" opus = \"\" } { { \\time 1/4 c''8. c''16 } { \\time 3/4 d''4 c''4 f''4 } { e''2 c''8. c''16 } { d''4 c''4 g''4 } { \\time 1/2 f''2 } } { { \\time 1/4 <c' e' g'>4 } { \\time 3/4 <f' a' c''>2. } { <c' e' g'>2. } { <c' e' g'>2. } { \\time 1/2 <f' a' c''>2 } }\n",
      "Executing: lilypond -fpng -o \"gen_comp\" \"gen_comp.ly\"\n"
     ]
    },
    {
     "data": {
      "text/plain": [
       "True"
      ]
     },
     "execution_count": 37,
     "metadata": {},
     "output_type": "execute_result"
    }
   ],
   "source": [
    "comp = lilypond.from_Composition(gen_comp)\n",
    "print(comp)\n",
    "lilypond.to_png(comp, \"gen_comp\")"
   ]
  },
  {
   "attachments": {
    "notation_before_brace2.png": {
     "image/png": "[encoded data removed]"
    }
   },
   "cell_type": "markdown",
   "metadata": {},
   "source": [
    "##### before:\n",
    "<div>\n",
    "<img src=\"attachment:notation_before_brace2.png\" width=\"300\"/>\n",
    "</div>"
   ]
  },
  {
   "attachments": {
    "notation_after_brace2.png": {
     "image/png": "[encoded data removed]"
    }
   },
   "cell_type": "markdown",
   "metadata": {},
   "source": [
    "##### generated chords:\n",
    "<div>\n",
    "<img src=\"attachment:notation_after_brace2.png\" width=\"300\"/>\n",
    "</div>"
   ]
  },
  {
   "cell_type": "code",
   "execution_count": null,
   "metadata": {},
   "outputs": [],
   "source": []
  }
 ],
 "metadata": {
  "kernelspec": {
   "display_name": "Python 3",
   "language": "python",
   "name": "python3"
  },
  "language_info": {
   "codemirror_mode": {
    "name": "ipython",
    "version": 3
   },
   "file_extension": ".py",
   "mimetype": "text/x-python",
   "name": "python",
   "nbconvert_exporter": "python",
   "pygments_lexer": "ipython3",
   "version": "3.8.5"
  }
 },
 "nbformat": 4,
 "nbformat_minor": 4
}
